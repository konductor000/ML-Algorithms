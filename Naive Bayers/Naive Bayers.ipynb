{
 "cells": [
  {
   "cell_type": "markdown",
   "id": "3a5c4a32",
   "metadata": {},
   "source": [
    "## Naive bayes\n",
    "```html\n",
    "Naive bayes algorithm based on bayes theorem\n",
    "P(Y|X) = P(Y) * P(X|Y)\n",
    "        ______________\n",
    "             P(X)\n",
    "\n",
    "Where:\n",
    "P(Y|X) is posterior. The probability that a person is Y even though he has X.\n",
    "P(Y) is prior. The probability that person is Y (# of people Y)\n",
    "                                                 _____________\n",
    "                                                # of all people\n",
    "P(X|Y) is Likelihood. The probability that person has X and he is Y. (# of people that have X and are Y)\n",
    "                                                                      _________________________________\n",
    "                                                                                # of people Y\n",
    "P(X) is Marginalization. The probability that person has X (# of people that have X)\n",
    "                                                            _______________________   Marginalization can be ignored in\n",
    "                                                                # of all people       classification problem\n",
    "```"
   ]
  },
  {
   "cell_type": "code",
   "execution_count": 68,
   "id": "0ffb7bf1",
   "metadata": {},
   "outputs": [],
   "source": [
    "# Basic imports\n",
    "\n",
    "import numpy as np\n",
    "import pandas as pd\n",
    "from matplotlib import pyplot as plt\n",
    "import seaborn as sns\n",
    "sns.set_style(\"darkgrid\")"
   ]
  },
  {
   "cell_type": "code",
   "execution_count": 69,
   "id": "d4534659",
   "metadata": {},
   "outputs": [],
   "source": [
    "class NaiveBayes:\n",
    "    \n",
    "    def fit(self, X, y):\n",
    "        # make list of unique answers in Y\n",
    "        n_samples, n_features = X.shape\n",
    "        self.classes = np.unique(y)\n",
    "        self.n_classes = len(self.classes)\n",
    "        \n",
    "        # for each class in Y make a row in mean and var \n",
    "        self.mean = np.zeros((self.n_classes, n_features), dtype=np.float64)\n",
    "        self.var = np.zeros((self.n_classes, n_features), dtype=np.float64)\n",
    "        self.prior = np.zeros(self.n_classes, dtype=np.float64)\n",
    "        \n",
    "        for cl in self.classes:\n",
    "            X_cl = X[cl==y]\n",
    "            self.mean[cl, :] = X_cl.mean(axis=0)\n",
    "            self.var[cl, :] = X_cl.var(axis=0)\n",
    "            self.prior[cl] = X_cl.shape[0] / float(n_samples)\n",
    "    \n",
    "    def predict(self, X):\n",
    "        preds = [self._predict(x) for x in X]\n",
    "        return preds\n",
    "    \n",
    "    def _predict(self, x):\n",
    "        # for each class in Y calculate P(X|Y) and return best answer\n",
    "        posteriors = []\n",
    "        for indx, cl in enumerate(self.classes):\n",
    "            prior = np.log(self.prior[indx])\n",
    "            class_conditional = np.sum(np.log(self.pdf(indx, x)))\n",
    "            posterior = class_conditional + prior\n",
    "            posteriors.append(posterior)\n",
    "\n",
    "        return (self.classes[np.argmax(posteriors)])\n",
    "            \n",
    "    def pdf(self, class_indx, x):\n",
    "        mean = self.mean[class_indx]\n",
    "        var = self.var[class_indx]\n",
    "        numerator = np.exp(-(x-mean)**2/(2 * var))\n",
    "        denominator = np.sqrt(2*np.pi*var)\n",
    "        return(numerator/denominator)"
   ]
  },
  {
   "cell_type": "code",
   "execution_count": 70,
   "id": "03cc0e85",
   "metadata": {},
   "outputs": [
    {
     "name": "stdout",
     "output_type": "stream",
     "text": [
      "Naive Bayes classification accuracy  0.965\n"
     ]
    }
   ],
   "source": [
    "def accuracy(y_true, y_pred):\n",
    "    accuracy = np.sum(y_true == y_pred)/len(y_true)\n",
    "    return(accuracy)\n",
    "\n",
    "X,y = datasets.make_classification(n_samples=1000, n_features=10, n_classes=2, random_state=123)\n",
    "X_train, X_test, y_train, y_test = train_test_split(X, y, test_size=0.2, random_state=123)\n",
    "\n",
    "nb = NaiveBayes()\n",
    "nb.fit(X_train, y_train)\n",
    "predictions = nb.predict(X_test)\n",
    "\n",
    "print(\"Naive Bayes classification accuracy \",accuracy(y_test, predictions))"
   ]
  },
  {
   "cell_type": "code",
   "execution_count": 29,
   "id": "d3601c2d",
   "metadata": {},
   "outputs": [],
   "source": []
  },
  {
   "cell_type": "code",
   "execution_count": null,
   "id": "2fbf41df",
   "metadata": {},
   "outputs": [],
   "source": []
  },
  {
   "cell_type": "code",
   "execution_count": null,
   "id": "3f85003b",
   "metadata": {},
   "outputs": [],
   "source": []
  }
 ],
 "metadata": {
  "kernelspec": {
   "display_name": "Python 3 (ipykernel)",
   "language": "python",
   "name": "python3"
  },
  "language_info": {
   "codemirror_mode": {
    "name": "ipython",
    "version": 3
   },
   "file_extension": ".py",
   "mimetype": "text/x-python",
   "name": "python",
   "nbconvert_exporter": "python",
   "pygments_lexer": "ipython3",
   "version": "3.9.2"
  }
 },
 "nbformat": 4,
 "nbformat_minor": 5
}
