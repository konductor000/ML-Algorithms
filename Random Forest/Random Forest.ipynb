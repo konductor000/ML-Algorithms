{
 "cells": [
  {
   "cell_type": "markdown",
   "id": "7000c083",
   "metadata": {},
   "source": [
    "## Random Forest\n",
    "```html\n",
    "Random forest generates Decision trees on bootstraped data\n",
    "Bootstraping is shafling the original dataset, so Decision trees in forest will be randoml\n",
    "\n",
    "\n",
    "```"
   ]
  },
  {
   "cell_type": "code",
   "execution_count": 57,
   "id": "c99a82c0",
   "metadata": {},
   "outputs": [],
   "source": [
    "# Basic imports\n",
    "\n",
    "import numpy as np\n",
    "import pandas as pd\n",
    "import math\n",
    "from sklearn.model_selection import train_test_split\n",
    "from sklearn import datasets\n",
    "import matplotlib.pyplot as plt\n",
    "from sklearn.metrics import confusion_matrix\n",
    "import random\n",
    "from IPython.core.display import display,Image\n",
    "from string import Template\n",
    "import IPython.display\n",
    "import warnings"
   ]
  },
  {
   "cell_type": "code",
   "execution_count": 58,
   "id": "2cb51b85",
   "metadata": {},
   "outputs": [],
   "source": [
    "from collections import Counter\n",
    "\n",
    "def entropy(y):\n",
    "    hist = np.bincount(y)\n",
    "    ps = hist / len(y)\n",
    "    return(-np.sum([p * np.log2(p) for p in ps if p>0]))\n",
    "\n",
    "            \n",
    "class Node:\n",
    "    def __init__(self, feature=None, threshold=None, left=None, right=None,*,value=None):\n",
    "        self.feature = feature\n",
    "        self.threshold = threshold\n",
    "        self.left = left\n",
    "        self.right = right\n",
    "        self.value = value\n",
    "  \n",
    "    def is_leaf_node(self):\n",
    "        return(self.value is not None)\n",
    "\n",
    "\n",
    "class DecisionTree:\n",
    "    def __init__(self, min_samples_split=2, max_depth=100, n_feats=None):\n",
    "        self.min_samples_split = min_samples_split\n",
    "        self.max_depth = max_depth\n",
    "        self.n_feats = n_feats\n",
    "        self.root = None\n",
    "\n",
    "    def fit(self, X, y):\n",
    "        self.n_feats = X.shape[1] if not self.n_feats else min(self.n_feats, X.shape[1])\n",
    "        self.root = self._grow_tree(X, y)\n",
    "\n",
    "    def _grow_tree(self, X, y, depth=0):\n",
    "        n_samples, n_features = X.shape\n",
    "        n_labels = len(np.unique(y))\n",
    "\n",
    "        #stopping criteria\n",
    "        if(depth >= self.max_depth or n_labels == 1 or n_samples < self.min_samples_split):\n",
    "            leaf_value = self._most_common_label(y)\n",
    "            return(Node(value=leaf_value))\n",
    "    \n",
    "        feat_idxs = np.random.choice(n_features, self.n_feats, replace=False)\n",
    "\n",
    "        #greedy search\n",
    "        best_feat, best_thresh = self._best_criteria(X, y, feat_idxs)\n",
    "\n",
    "        left_idxs, right_idxs = self._split(X[:,best_feat],best_thresh)\n",
    "\n",
    "        left = self._grow_tree(X[left_idxs,:], y[left_idxs], depth+1)\n",
    "        right = self._grow_tree(X[right_idxs,:], y[right_idxs], depth+1)\n",
    "        return(Node(best_feat, best_thresh, left, right))\n",
    "  \n",
    "\n",
    "    def _best_criteria(self, X, y, feat_idxs):\n",
    "        best_gain = -1\n",
    "        split_idx, split_thresh = None, None\n",
    "        for feat_idx in feat_idxs:\n",
    "            X_column = X[:, feat_idx]\n",
    "            thresholds = np.unique(X_column)\n",
    "            for threshold in thresholds:\n",
    "                gain = self._information_gain(y, X_column, threshold)\n",
    "                if(gain>best_gain):\n",
    "                    best_gain = gain\n",
    "                    split_idx = feat_idx\n",
    "                    split_thresh = threshold\n",
    "        return(split_idx, split_thresh)\n",
    "\n",
    "    def _information_gain(self, y, X_column, split_threh):\n",
    "        #parent entropy\n",
    "        parent_entropy = entropy(y)\n",
    "\n",
    "        #generate split\n",
    "        left_idxs, right_idxs = self._split(X_column, split_threh)\n",
    "        if(len(left_idxs == 0) or len(right_idxs)==0):\n",
    "            return 0\n",
    "\n",
    "        #weighted avg vhild entropy\n",
    "        n = len(y)\n",
    "        n_l, n_r = len(left_idxs), len(right_idxs)\n",
    "        e_l, e_r = entropy(y[left_idxs]), entropy(y[right_idxs])\n",
    "        child_entropy = (n_l/n)*e_l + (n_r/n)*e_r\n",
    "\n",
    "        #return ig\n",
    "        ig = parent_entropy - child_entropy\n",
    "\n",
    "        return ig\n",
    "  \n",
    "    def _split(self, X_column, split_threh):\n",
    "        left_idxs = np.argwhere(X_column <= split_threh).flatten()\n",
    "        right_idxs = np.argwhere(X_column > split_threh).flatten()\n",
    "        return(left_idxs, right_idxs)\n",
    "  \n",
    "    def predict(self, X):\n",
    "        #traverse tree\n",
    "        return(np.array([self._traverse_tree(x, self.root) for x in X]))\n",
    "\n",
    "    def _traverse_tree(self, x, node):\n",
    "        if(node.is_leaf_node()):\n",
    "            return(node.value)\n",
    "\n",
    "        if(x[node.feature] <= node.threshold):\n",
    "            return(self._traverse_tree(x, node.left))\n",
    "        return(self._traverse_tree(x, node.right))\n",
    "\n",
    "    def _most_common_label(self, y):\n",
    "        counter = Counter(y)\n",
    "        most_common = counter.most_common(1)[0][0]\n",
    "        return(most_common)"
   ]
  },
  {
   "cell_type": "code",
   "execution_count": 61,
   "id": "94e212c5",
   "metadata": {},
   "outputs": [],
   "source": [
    "def bootstrap(X, y):\n",
    "    n_samples = X.shape[0]\n",
    "    # create list of random indexes that can be repeated and return X and y with these indexes\n",
    "    indexes = np.random.choice(n_samples, size=n_samples, replace=True)\n",
    "    return X[indexes], y[indexes]\n",
    "\n",
    "\n",
    "# most common value in y array\n",
    "def most_common_label(y):\n",
    "    counter = Counter(y)\n",
    "    most_common = counter.most_common(1)[0][0]\n",
    "    return most_common\n",
    "\n",
    "\n",
    "class RandomForest:\n",
    "    \n",
    "    def __init__(self, n_trees=100, min_samples_split=2, max_depth=10, n_feats=None):\n",
    "        self.n_trees = n_trees\n",
    "        self.min_samples_split = min_samples_split\n",
    "        self.max_depth = max_depth\n",
    "        self.n_feats = n_feats\n",
    "        self.trees = []\n",
    "    \n",
    "    # create n_trees DecisionTrees and fit each on bootstrapped datasets\n",
    "    def fit(self, X, y):\n",
    "        self.trees = []\n",
    "        for i in range(self.n_trees):\n",
    "            tree = DecisionTree(min_samples_split=self.min_samples_split,\n",
    "                                max_depth=self.max_depth, n_feats=self.n_feats)\n",
    "            X_sample, y_sample = bootstrap(X, y)\n",
    "            tree.fit(X_sample, y_sample)\n",
    "            self.trees.append(tree)\n",
    "    \n",
    "    # predict for each tree and take most commom answer\n",
    "    def predict(self, X):\n",
    "        tree_preds = np.array([tree.predict(X) for tree in self.trees]).T\n",
    "        y_preds = np.array([most_common_label(row) for row in tree_preds])\n",
    "        return y_preds"
   ]
  },
  {
   "cell_type": "code",
   "execution_count": 63,
   "id": "f7f8cca8",
   "metadata": {},
   "outputs": [
    {
     "name": "stdout",
     "output_type": "stream",
     "text": [
      "Accuracy:  0.6228070175438597\n"
     ]
    }
   ],
   "source": [
    "# test Random Forest\n",
    "\n",
    "\n",
    "def accuracy(y_true, y_pred):\n",
    "    accuracy = np.sum(y_true == y_pred) / len(y_true)\n",
    "    return(accuracy)\n",
    "\n",
    "\n",
    "data = datasets.load_breast_cancer()\n",
    "X = data.data\n",
    "y = data.target\n",
    "\n",
    "X_train, X_test, y_train, y_test = train_test_split(X, y, test_size=0.2, random_state = 42)\n",
    "\n",
    "clf_f = RandomForest(n_trees=20, min_samples_split=2, max_depth=5)\n",
    "clf_f.fit(X_train, y_train)\n",
    "\n",
    "y_pred = clf_f.predict(X_test)\n",
    "acc = accuracy(y_test, y_pred)\n",
    "\n",
    "print(\"Accuracy: \",acc)"
   ]
  },
  {
   "cell_type": "code",
   "execution_count": 64,
   "id": "7ffdfec1",
   "metadata": {},
   "outputs": [
    {
     "data": {
      "text/plain": [
       "<AxesSubplot:>"
      ]
     },
     "execution_count": 64,
     "metadata": {},
     "output_type": "execute_result"
    },
    {
     "data": {
      "image/png": "[encoded data removed]",
      "text/plain": [
       "<Figure size 432x288 with 2 Axes>"
      ]
     },
     "metadata": {
      "needs_background": "light"
     },
     "output_type": "display_data"
    }
   ],
   "source": [
    "cnf_matrix = confusion_matrix(y_test, y_pred)\n",
    "import seaborn as sns\n",
    "sns.heatmap(cnf_matrix, annot=True)"
   ]
  },
  {
   "cell_type": "code",
   "execution_count": null,
   "id": "1d9c445f",
   "metadata": {},
   "outputs": [],
   "source": []
  }
 ],
 "metadata": {
  "kernelspec": {
   "display_name": "Python 3 (ipykernel)",
   "language": "python",
   "name": "python3"
  },
  "language_info": {
   "codemirror_mode": {
    "name": "ipython",
    "version": 3
   },
   "file_extension": ".py",
   "mimetype": "text/x-python",
   "name": "python",
   "nbconvert_exporter": "python",
   "pygments_lexer": "ipython3",
   "version": "3.9.2"
  }
 },
 "nbformat": 4,
 "nbformat_minor": 5
}
