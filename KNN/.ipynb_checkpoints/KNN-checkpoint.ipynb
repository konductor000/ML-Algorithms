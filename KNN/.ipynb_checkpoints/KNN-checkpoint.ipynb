{
 "cells": [
  {
   "cell_type": "markdown",
   "id": "6dfdd7b3",
   "metadata": {},
   "source": [
    "## KNearestNeighbours\n",
    "```html\n",
    "KNearestNeighbours algorithm works without fitting and for each point calculates distance to every other.\n",
    "Answer is the modal of the k nearest points \n",
    "```"
   ]
  },
  {
   "cell_type": "code",
   "execution_count": 20,
   "id": "41caa2f8",
   "metadata": {},
   "outputs": [],
   "source": [
    "from scipy.stats import mode\n",
    "import numpy as np\n",
    "from sklearn.metrics import accuracy_score\n",
    "from sklearn.datasets import load_iris\n",
    "from numpy.random import randint"
   ]
  },
  {
   "cell_type": "code",
   "execution_count": 21,
   "id": "65c88740",
   "metadata": {},
   "outputs": [],
   "source": [
    "class KNN:\n",
    "    \n",
    "    def __init__(self, k_neighbours):\n",
    "        self.k_neighbours = k_neighbours\n",
    "    \n",
    "    def fit(self, X, y):\n",
    "        self.X_train = X\n",
    "        self.y_train = y\n",
    "    \n",
    "    def predict(self, X):\n",
    "        preds = [self._predict(point) for point in X]\n",
    "        return preds\n",
    "    \n",
    "    def _predict(self, point1):\n",
    "        distances = []\n",
    "        for point2 in self.X_train:\n",
    "            distances.append(self.distance(point1, point2))\n",
    "            \n",
    "        distances = np.array(distances)\n",
    "        k_dist = np.argsort(distances)[:self.k_neighbours]\n",
    "        labels = self.y_train[k_dist]\n",
    "        \n",
    "        pred = mode(labels)[0]\n",
    "        return pred\n",
    "        \n",
    "    def distance(self, point1, point2):\n",
    "        return np.sqrt(np.sum((point1 - point2) ** 2))"
   ]
  },
  {
   "cell_type": "code",
   "execution_count": 25,
   "id": "c00ff805",
   "metadata": {},
   "outputs": [
    {
     "name": "stdout",
     "output_type": "stream",
     "text": [
      "k - 1 score - 0.98\n",
      "k - 2 score - 0.98\n",
      "k - 3 score - 1.0\n",
      "k - 4 score - 1.0\n",
      "k - 5 score - 1.0\n",
      "k - 6 score - 1.0\n",
      "k - 7 score - 1.0\n",
      "k - 8 score - 1.0\n",
      "k - 9 score - 1.0\n",
      "k - 10 score - 1.0\n",
      "k - 11 score - 1.0\n",
      "k - 12 score - 1.0\n",
      "k - 13 score - 1.0\n",
      "k - 14 score - 0.98\n",
      "k - 15 score - 1.0\n",
      "k - 16 score - 1.0\n",
      "k - 17 score - 1.0\n",
      "k - 18 score - 1.0\n",
      "k - 19 score - 1.0\n",
      "k - 20 score - 1.0\n",
      "k - 21 score - 1.0\n",
      "k - 22 score - 0.98\n",
      "k - 23 score - 0.98\n",
      "k - 24 score - 0.98\n",
      "k - 25 score - 0.96\n",
      "k - 26 score - 0.96\n",
      "k - 27 score - 0.98\n",
      "k - 28 score - 0.98\n",
      "k - 29 score - 0.98\n",
      "k - 30 score - 1.0\n"
     ]
    }
   ],
   "source": [
    "iris= load_iris()\n",
    " \n",
    "# Store features matrix in X\n",
    "X = iris.data\n",
    "#Store target vector in \n",
    "y = iris.target\n",
    " \n",
    "#Creating the training Data\n",
    "train_idx = xxx = randint(0,150,100)\n",
    "X_train = X[train_idx]\n",
    "y_train = y[train_idx]\n",
    " \n",
    "#Creating the testing Data\n",
    "test_idx = xxx = randint(0,150,50) #taking 50 random samples\n",
    "X_test = X[test_idx]\n",
    "y_test = y[test_idx]\n",
    " \n",
    "#Applying our function\n",
    "for i in range(1, 31):\n",
    "    knn = KNN(i)\n",
    "    knn.fit(X_train, y_train)\n",
    "    y_pred = knn.predict(X_test)\n",
    "    print(\"k -\", i, \"score -\", accuracy_score(y_test, y_pred))"
   ]
  },
  {
   "cell_type": "code",
   "execution_count": 12,
   "id": "f87afd85",
   "metadata": {},
   "outputs": [],
   "source": []
  },
  {
   "cell_type": "code",
   "execution_count": null,
   "id": "73c1a6ef",
   "metadata": {},
   "outputs": [],
   "source": []
  },
  {
   "cell_type": "code",
   "execution_count": null,
   "id": "8ce631b2",
   "metadata": {},
   "outputs": [],
   "source": []
  }
 ],
 "metadata": {
  "kernelspec": {
   "display_name": "Python 3 (ipykernel)",
   "language": "python",
   "name": "python3"
  },
  "language_info": {
   "codemirror_mode": {
    "name": "ipython",
    "version": 3
   },
   "file_extension": ".py",
   "mimetype": "text/x-python",
   "name": "python",
   "nbconvert_exporter": "python",
   "pygments_lexer": "ipython3",
   "version": "3.9.2"
  }
 },
 "nbformat": 4,
 "nbformat_minor": 5
}
